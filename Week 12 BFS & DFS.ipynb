{
 "cells": [
  {
   "cell_type": "markdown",
   "metadata": {},
   "source": [
    "# Pertemuan 12"
   ]
  },
  {
   "cell_type": "markdown",
   "metadata": {},
   "source": [
    "### BFS"
   ]
  },
  {
   "cell_type": "code",
   "execution_count": 8,
   "metadata": {},
   "outputs": [],
   "source": [
    "graph={'Amin' : {'Wasim', 'Nick', 'Mike'},\n",
    "      'Wasim' : {'Imran','Amin'},\n",
    "      'Imran' : {'Wasim','Faras'},\n",
    "      'Faras' : {'Imran'},\n",
    "      'Mike' : {'Amin'},\n",
    "      'Nick' : {'Amin'}}"
   ]
  },
  {
   "cell_type": "code",
   "execution_count": 9,
   "metadata": {},
   "outputs": [],
   "source": [
    "def bfs (graph, start):\n",
    "    visited=[]\n",
    "    queue=[start]\n",
    "    \n",
    "    while queue:\n",
    "        node=queue.pop(0)\n",
    "        if node not in visited:\n",
    "            visited.append(node)\n",
    "            neighbours=graph[node]\n",
    "            for neighbour in neighbours:\n",
    "                queue.append(neighbour)\n",
    "    return visited"
   ]
  },
  {
   "cell_type": "code",
   "execution_count": 10,
   "metadata": {},
   "outputs": [
    {
     "data": {
      "text/plain": [
       "['Amin', 'Nick', 'Wasim', 'Mike', 'Imran', 'Faras']"
      ]
     },
     "execution_count": 10,
     "metadata": {},
     "output_type": "execute_result"
    }
   ],
   "source": [
    "# 0 amin --------------\n",
    "# |          |         |\n",
    "# 0 wasim    0 nick    0 mike\n",
    "# | \n",
    "# 0 imran\n",
    "# |\n",
    "# 0 faras\n",
    "\n",
    "bfs(graph, 'Amin')"
   ]
  },
  {
   "cell_type": "code",
   "execution_count": 12,
   "metadata": {},
   "outputs": [
    {
     "data": {
      "text/plain": [
       "['Wasim', 'Imran', 'Amin', 'Faras', 'Nick', 'Mike']"
      ]
     },
     "execution_count": 12,
     "metadata": {},
     "output_type": "execute_result"
    }
   ],
   "source": [
    "# 0 wasim ---\n",
    "# |          |\n",
    "# 0 imran    0 amin ----\n",
    "# |          |         |\n",
    "# 0 faras    0 mick    0 mike \n",
    "\n",
    "bfs(graph, 'Wasim')"
   ]
  },
  {
   "cell_type": "code",
   "execution_count": 13,
   "metadata": {},
   "outputs": [
    {
     "data": {
      "text/plain": [
       "['Faras', 'Imran', 'Wasim', 'Amin', 'Nick', 'Mike']"
      ]
     },
     "execution_count": 13,
     "metadata": {},
     "output_type": "execute_result"
    }
   ],
   "source": [
    "# 0 faras\n",
    "# |\n",
    "# 0 imran\n",
    "# | \n",
    "# 0 wasim    0 nick    0 mike\n",
    "# |          |         |\n",
    "# 0 amin ---------------\n",
    "\n",
    "bfs(graph, 'Faras')"
   ]
  },
  {
   "cell_type": "markdown",
   "metadata": {},
   "source": [
    "### DFS"
   ]
  },
  {
   "cell_type": "code",
   "execution_count": 2,
   "metadata": {},
   "outputs": [],
   "source": [
    "def dfs (graph, start, visited=None):\n",
    "    if visited is None:\n",
    "        visited = set()\n",
    "    visited.add(start)\n",
    "    print(start)\n",
    "    for next in graph[start] - visited:\n",
    "        dfs(graph, next, visited)\n",
    "    return visited"
   ]
  },
  {
   "cell_type": "code",
   "execution_count": 3,
   "metadata": {},
   "outputs": [],
   "source": [
    "graph={'Amin' : {'Wasim', 'Nick', 'Mike'},\n",
    "      'Wasim' : {'Imran','Amin'},\n",
    "      'Imran' : {'Wasim','Faras'},\n",
    "      'Faras' : {'Imran'},\n",
    "      'Mike' : {'Amin'},\n",
    "      'Nick' : {'Amin'}}"
   ]
  },
  {
   "cell_type": "code",
   "execution_count": 14,
   "metadata": {},
   "outputs": [
    {
     "name": "stdout",
     "output_type": "stream",
     "text": [
      "Amin\n",
      "Nick\n",
      "Wasim\n",
      "Imran\n",
      "Faras\n",
      "Mike\n"
     ]
    },
    {
     "data": {
      "text/plain": [
       "{'Amin', 'Faras', 'Imran', 'Mike', 'Nick', 'Wasim'}"
      ]
     },
     "execution_count": 14,
     "metadata": {},
     "output_type": "execute_result"
    }
   ],
   "source": [
    "# 0 amin --------------\n",
    "# |          |         |\n",
    "# 0 wasim    0 nick    0 mike\n",
    "# | \n",
    "# 0 imran\n",
    "# |\n",
    "# 0 faras\n",
    "#\n",
    "# turun dari amin ke faras, geser ke nick & mike\n",
    "\n",
    "dfs(graph, 'Amin')"
   ]
  },
  {
   "cell_type": "code",
   "execution_count": 5,
   "metadata": {},
   "outputs": [
    {
     "name": "stdout",
     "output_type": "stream",
     "text": [
      "Wasim\n",
      "Imran\n",
      "Faras\n",
      "Amin\n",
      "Nick\n",
      "Mike\n"
     ]
    },
    {
     "data": {
      "text/plain": [
       "{'Amin', 'Faras', 'Imran', 'Mike', 'Nick', 'Wasim'}"
      ]
     },
     "execution_count": 5,
     "metadata": {},
     "output_type": "execute_result"
    }
   ],
   "source": [
    "# 0 amin --------------\n",
    "# |          |         |\n",
    "# 0 wasim    0 nick    0 mike\n",
    "# | \n",
    "# 0 imran\n",
    "# |\n",
    "# 0 faras\n",
    "#\n",
    "# turun dari wasim ke faras, naik ke amin, geser ke nick & mike\n",
    "\n",
    "dfs(graph, 'Wasim')"
   ]
  },
  {
   "cell_type": "code",
   "execution_count": 6,
   "metadata": {},
   "outputs": [
    {
     "name": "stdout",
     "output_type": "stream",
     "text": [
      "Faras\n",
      "Imran\n",
      "Wasim\n",
      "Amin\n",
      "Nick\n",
      "Mike\n"
     ]
    },
    {
     "data": {
      "text/plain": [
       "{'Amin', 'Faras', 'Imran', 'Mike', 'Nick', 'Wasim'}"
      ]
     },
     "execution_count": 6,
     "metadata": {},
     "output_type": "execute_result"
    }
   ],
   "source": [
    "# 0 amin --------------\n",
    "# |          |         |\n",
    "# 0 wasim    0 nick    0 mike\n",
    "# | \n",
    "# 0 imran\n",
    "# |\n",
    "# 0 faras\n",
    "#\n",
    "# naik dari faras ke amin, geser ke nick & mike\n",
    "\n",
    "dfs(graph, 'Faras')"
   ]
  },
  {
   "cell_type": "code",
   "execution_count": 15,
   "metadata": {},
   "outputs": [
    {
     "name": "stdout",
     "output_type": "stream",
     "text": [
      "Nick\n",
      "Amin\n",
      "Wasim\n",
      "Imran\n",
      "Faras\n",
      "Mike\n"
     ]
    },
    {
     "data": {
      "text/plain": [
       "{'Amin', 'Faras', 'Imran', 'Mike', 'Nick', 'Wasim'}"
      ]
     },
     "execution_count": 15,
     "metadata": {},
     "output_type": "execute_result"
    }
   ],
   "source": [
    "# 0 amin --------------\n",
    "# |          |         |\n",
    "# 0 wasim    0 nick    0 mike\n",
    "# | \n",
    "# 0 imran\n",
    "# |\n",
    "# 0 faras\n",
    "#\n",
    "# dari nick naik ke amin, turun ke faras, geser ke mike\n",
    "\n",
    "dfs(graph, 'Nick')"
   ]
  },
  {
   "cell_type": "code",
   "execution_count": null,
   "metadata": {},
   "outputs": [],
   "source": []
  }
 ],
 "metadata": {
  "kernelspec": {
   "display_name": "Python 3",
   "language": "python",
   "name": "python3"
  },
  "language_info": {
   "codemirror_mode": {
    "name": "ipython",
    "version": 3
   },
   "file_extension": ".py",
   "mimetype": "text/x-python",
   "name": "python",
   "nbconvert_exporter": "python",
   "pygments_lexer": "ipython3",
   "version": "3.8.3"
  }
 },
 "nbformat": 4,
 "nbformat_minor": 4
}
