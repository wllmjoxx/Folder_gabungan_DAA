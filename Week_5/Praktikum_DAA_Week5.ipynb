{
 "cells": [
  {
   "cell_type": "markdown",
   "metadata": {},
   "source": [
    "# Pertemuan 5\n",
    "#### Inversi dalam suatu array"
   ]
  },
  {
   "cell_type": "code",
   "execution_count": 12,
   "metadata": {},
   "outputs": [],
   "source": [
    "def countInversion(arr):\n",
    "    result=0\n",
    "    for i in range(len(arr)):\n",
    "        for j in range(i+1, len(arr)):\n",
    "            if arr[i]<arr[j]:\n",
    "                result+=1            \n",
    "    return result"
   ]
  },
  {
   "cell_type": "code",
   "execution_count": 13,
   "metadata": {},
   "outputs": [],
   "source": [
    "arr=[21, 70, 36, 14, 25, 78]"
   ]
  },
  {
   "cell_type": "code",
   "execution_count": 14,
   "metadata": {},
   "outputs": [
    {
     "name": "stdout",
     "output_type": "stream",
     "text": [
      "9\n"
     ]
    }
   ],
   "source": [
    "result=countInversion(arr)\n",
    "print(result)"
   ]
  },
  {
   "cell_type": "code",
   "execution_count": 28,
   "metadata": {},
   "outputs": [],
   "source": [
    "def countInversion(arr):\n",
    "    icount=0\n",
    "    if len(arr)<=1:\n",
    "        return icount\n",
    "\n",
    "    mid=len(arr)//2\n",
    "    left=arr[:mid]\n",
    "    right=arr[mid:]\n",
    "    icount+=countInversion(left)\n",
    "    icount+=countInversion(right)\n",
    "    i=j=k=0\n",
    "    \n",
    "    #print(left)\n",
    "    #print(right)\n",
    "    while i<len(left) and j<len(right):\n",
    "        if left[i]<right[j]:\n",
    "            arr[k]=left[i]\n",
    "            i+=1\n",
    "        else:\n",
    "            #print(left[i],right[j])\n",
    "            arr[k]=right[j]\n",
    "            j+=1\n",
    "            icount+=(mid-i)\n",
    "            k+=1\n",
    "    while i<len(left):\n",
    "        arr[k]=left[i]\n",
    "        i+=1\n",
    "        k+=1\n",
    "    while j<len(right):\n",
    "        arr[k]=right[j]\n",
    "        j+=1\n",
    "        k+=1\n",
    "        \n",
    "    return icount"
   ]
  },
  {
   "cell_type": "code",
   "execution_count": 29,
   "metadata": {},
   "outputs": [],
   "source": [
    "arr=[1,20,6,4,5]"
   ]
  },
  {
   "cell_type": "code",
   "execution_count": 30,
   "metadata": {},
   "outputs": [
    {
     "name": "stdout",
     "output_type": "stream",
     "text": [
      "8\n"
     ]
    }
   ],
   "source": [
    "result = countInversion(arr)\n",
    "print(result)"
   ]
  },
  {
   "cell_type": "markdown",
   "metadata": {},
   "source": [
    "### Maximum subarray sum"
   ]
  },
  {
   "cell_type": "code",
   "execution_count": 35,
   "metadata": {},
   "outputs": [],
   "source": [
    "def maxSubSum(arr):\n",
    "    max_so_far=0\n",
    "    max_ending_here=0\n",
    "    for i in range(len(arr)):\n",
    "        max_ending_here+=arr[i]\n",
    "        if max_ending_here>max_so_far:\n",
    "            max_so_far=max_ending_here\n",
    "            if max_ending_here<0:\n",
    "                max_ending_here=0\n",
    "            return max_so_far"
   ]
  },
  {
   "cell_type": "code",
   "execution_count": 36,
   "metadata": {},
   "outputs": [
    {
     "name": "stdout",
     "output_type": "stream",
     "text": [
      "1\n"
     ]
    }
   ],
   "source": [
    "arr=[-2,-5,6,-2,-3,1,5,-6,7]\n",
    "result=maxSubSum(arr)\n",
    "print(result)"
   ]
  },
  {
   "cell_type": "code",
   "execution_count": 39,
   "metadata": {},
   "outputs": [],
   "source": [
    "def maxCrossingSum(arr,low,mid,high):\n",
    "    result=0; leftSum=float('-infinity')\n",
    "    for i in range(mid,low-1,-1):\n",
    "        result+=arr[i]\n",
    "        if result>leftSum:\n",
    "            leftSum=result\n",
    "    result=0; rightSum=float('infinity')\n",
    "    for i in range(mid+1,high+1):\n",
    "        result+=arr[i]\n",
    "        if result>rightSum:\n",
    "            rightSum=result\n",
    "    return leftSum+rightSum\n",
    "\n",
    "def maxSum(arr,low,high):\n",
    "    if low==high:\n",
    "        return arr[low]\n",
    "    mid=(low+high)//2\n",
    "    return max(maxSum(arr,low,mid),maxSum(arr,mid+1,high),maxCrossingSum(arr,low,mid,high))"
   ]
  },
  {
   "cell_type": "code",
   "execution_count": 40,
   "metadata": {},
   "outputs": [
    {
     "name": "stdout",
     "output_type": "stream",
     "text": [
      "inf\n"
     ]
    }
   ],
   "source": [
    "arr=[-2,-5,6,-2,-3,1,5,-6,2]\n",
    "result=maxSum(arr,0,len(arr)-1)\n",
    "print(result)"
   ]
  },
  {
   "cell_type": "markdown",
   "metadata": {},
   "source": [
    "### Longest common prefix"
   ]
  },
  {
   "cell_type": "code",
   "execution_count": 41,
   "metadata": {},
   "outputs": [],
   "source": [
    "def commonPrefix(str1,str2):\n",
    "    n1=len(str1);n2=len(str2)\n",
    "    i,j=0,0\n",
    "    s=\"\"\n",
    "    while i<n1 and j<n2:\n",
    "        if str1[i]==str2[j]:\n",
    "            s+=str1[i]\n",
    "            i+=1\n",
    "            j+=1\n",
    "        else:\n",
    "            break\n",
    "    return s"
   ]
  },
  {
   "cell_type": "code",
   "execution_count": 42,
   "metadata": {},
   "outputs": [],
   "source": [
    "def longestCommonPrefix(arr,low,high):\n",
    "    if low==high:\n",
    "        return arr[low]\n",
    "    mid=(low+high)//2\n",
    "    result1=longestCommonPrefix(arr,low,mid)\n",
    "    result2=longestCommonPrefix(arr,mid+1,high)\n",
    "    result=commonPrefix(result1,result2)\n",
    "    return result"
   ]
  },
  {
   "cell_type": "code",
   "execution_count": 43,
   "metadata": {},
   "outputs": [],
   "source": [
    "arr=['geeksforgeeks','geeks','geek','geezer']"
   ]
  },
  {
   "cell_type": "code",
   "execution_count": 44,
   "metadata": {},
   "outputs": [],
   "source": [
    "result=longestCommonPrefix(arr,0,len(arr)-1)"
   ]
  },
  {
   "cell_type": "code",
   "execution_count": 45,
   "metadata": {},
   "outputs": [
    {
     "name": "stdout",
     "output_type": "stream",
     "text": [
      "gee\n"
     ]
    }
   ],
   "source": [
    "print(result)"
   ]
  },
  {
   "cell_type": "code",
   "execution_count": 46,
   "metadata": {},
   "outputs": [
    {
     "name": "stdout",
     "output_type": "stream",
     "text": [
      "ru\n"
     ]
    }
   ],
   "source": [
    "arr=['ruins','rude','ruler','run']\n",
    "result=longestCommonPrefix(arr,0,len(arr)-1)\n",
    "print(result)"
   ]
  },
  {
   "cell_type": "markdown",
   "metadata": {},
   "source": [
    "### Median 2 array urut sama ukuran"
   ]
  },
  {
   "cell_type": "code",
   "execution_count": 50,
   "metadata": {},
   "outputs": [],
   "source": [
    "def medianOfArray(arr1,arr2,n):\n",
    "    m1=-1\n",
    "    m2=-1\n",
    "    count=0\n",
    "    i=j=0\n",
    "    while count<n+1:\n",
    "        count+=1\n",
    "        if i==n:\n",
    "            m1=m2\n",
    "            m2=arr2[0]\n",
    "            break\n",
    "        if j==n:\n",
    "            m1=m2\n",
    "            m2=arr1[0]\n",
    "            break\n",
    "        if arr1[i]<arr2[j]:\n",
    "            m1=m2\n",
    "            m2=arr1[i]\n",
    "            i+=1\n",
    "        else:\n",
    "            m1=m2\n",
    "            m2=arr2[j]\n",
    "            j+=1\n",
    "    return (m1+m2)//2"
   ]
  },
  {
   "cell_type": "code",
   "execution_count": 51,
   "metadata": {},
   "outputs": [],
   "source": [
    "arr1=[1, 12, 15, 26, 38]\n",
    "arr2=[2, 13, 17, 30, 45]"
   ]
  },
  {
   "cell_type": "code",
   "execution_count": 52,
   "metadata": {},
   "outputs": [
    {
     "name": "stdout",
     "output_type": "stream",
     "text": [
      "16\n"
     ]
    }
   ],
   "source": [
    "print(medianOfArray(arr1,arr2,len(arr1)))"
   ]
  },
  {
   "cell_type": "markdown",
   "metadata": {},
   "source": [
    "### Median 2 array urut sama ukuran"
   ]
  },
  {
   "cell_type": "code",
   "execution_count": 53,
   "metadata": {},
   "outputs": [],
   "source": [
    "def floorSorted(arr,low,high,x):\n",
    "    if low>high:\n",
    "        return -1\n",
    "    \n",
    "    if arr[low]>x:\n",
    "        return -1\n",
    "    \n",
    "    if arr[high]<=x:\n",
    "        return arr[high]\n",
    "    \n",
    "    mid=(low+high)//2\n",
    "    \n",
    "    if arr[mid]==x:\n",
    "        return arr[mid]\n",
    "    \n",
    "    if mid>0 and x>=arr[mid-1] and arr[mid]>x:\n",
    "        return arr[mid-1]\n",
    "    \n",
    "    if mid<high and x<arr[mid+1] and x>=arr[mid]:\n",
    "        return arr[mid]\n",
    "    \n",
    "    if x>arr[mid]:\n",
    "        return floorSorted(arr,mid+1,high,x)\n",
    "    else:\n",
    "        return floorSorted(arr,low,mid-1,x)"
   ]
  },
  {
   "cell_type": "code",
   "execution_count": 54,
   "metadata": {},
   "outputs": [],
   "source": [
    "arr=[1,2,8,10,12,14,19]"
   ]
  },
  {
   "cell_type": "code",
   "execution_count": 55,
   "metadata": {},
   "outputs": [],
   "source": [
    "x=5"
   ]
  },
  {
   "cell_type": "code",
   "execution_count": 56,
   "metadata": {},
   "outputs": [
    {
     "name": "stdout",
     "output_type": "stream",
     "text": [
      "2\n"
     ]
    }
   ],
   "source": [
    "print(floorSorted(arr,0,len(arr)-1,x))"
   ]
  },
  {
   "cell_type": "markdown",
   "metadata": {},
   "source": [
    "### Nilai terdekat"
   ]
  },
  {
   "cell_type": "code",
   "execution_count": 61,
   "metadata": {},
   "outputs": [],
   "source": [
    "def closestNumber(arr,low,high,x):\n",
    "    if low>high:\n",
    "        return -1\n",
    "    if arr[high]<=x:\n",
    "        return arr[high]\n",
    "    if arr[low]>=x:\n",
    "        return arr[low]\n",
    "    mid=(low+high)//2\n",
    "    if arr[mid==x]:\n",
    "        return arr[mid]\n",
    "    abs_mid=abs(arr[mid]-x)\n",
    "    if mid>0:\n",
    "        abs_left=abs(arr[mid-1]-x)\n",
    "        if abs_left>abs_mid:\n",
    "            return closestNumber(arr,low,mid-1,x)\n",
    "    if mid<high:\n",
    "        abs_right=abs(arr[mid+1]-x)\n",
    "        if abs_right<abs_mid:\n",
    "            return closestNumber(arr,mid+1,high,x)\n",
    "        return arr[mid]"
   ]
  },
  {
   "cell_type": "code",
   "execution_count": 62,
   "metadata": {},
   "outputs": [],
   "source": [
    "arr=[2, 5, 6, 7, 8, 8, 9]"
   ]
  },
  {
   "cell_type": "code",
   "execution_count": 63,
   "metadata": {},
   "outputs": [],
   "source": [
    "x = 9"
   ]
  },
  {
   "cell_type": "code",
   "execution_count": 64,
   "metadata": {},
   "outputs": [
    {
     "name": "stdout",
     "output_type": "stream",
     "text": [
      "9\n"
     ]
    }
   ],
   "source": [
    "print(closestNumber(arr,0,len(arr)-1,x))"
   ]
  },
  {
   "cell_type": "markdown",
   "metadata": {},
   "source": [
    "### Fixed Point "
   ]
  },
  {
   "cell_type": "code",
   "execution_count": 78,
   "metadata": {},
   "outputs": [],
   "source": [
    "def fixedPoint(arr,low,high):\n",
    "    if low>high:\n",
    "        return -1\n",
    "    if arr[high]==high:\n",
    "        return arr[high]\n",
    "    if arr[low]==low:\n",
    "        return arr[low]\n",
    "    mid=(low+high)//2\n",
    "    if arr[mid]==mid:\n",
    "        return arr[mid]\n",
    "    if mid>arr[mid]:\n",
    "        return fixedPoint(arr,mid+1,high)\n",
    "    else:\n",
    "        return fixedPoint(arr,low,mid-1)"
   ]
  },
  {
   "cell_type": "code",
   "execution_count": 79,
   "metadata": {},
   "outputs": [],
   "source": [
    "arr=[9,1,4,5,2]"
   ]
  },
  {
   "cell_type": "code",
   "execution_count": 80,
   "metadata": {},
   "outputs": [
    {
     "name": "stdout",
     "output_type": "stream",
     "text": [
      "1\n"
     ]
    }
   ],
   "source": [
    "print(fixedPoint(arr,0,len(arr)-1))"
   ]
  },
  {
   "cell_type": "code",
   "execution_count": null,
   "metadata": {},
   "outputs": [],
   "source": []
  }
 ],
 "metadata": {
  "kernelspec": {
   "display_name": "Python 3",
   "language": "python",
   "name": "python3"
  },
  "language_info": {
   "codemirror_mode": {
    "name": "ipython",
    "version": 3
   },
   "file_extension": ".py",
   "mimetype": "text/x-python",
   "name": "python",
   "nbconvert_exporter": "python",
   "pygments_lexer": "ipython3",
   "version": "3.8.3"
  }
 },
 "nbformat": 4,
 "nbformat_minor": 4
}
