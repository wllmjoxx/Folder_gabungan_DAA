{
 "cells": [
  {
   "cell_type": "markdown",
   "metadata": {},
   "source": [
    "# Linier programming Scipy"
   ]
  },
  {
   "cell_type": "markdown",
   "metadata": {},
   "source": [
    "## Menggunakan Scipy\n",
    "max z = 5x2 + 7x2 di mana\n",
    "1x1 + 0x2 <= 16.2x1 + 3x2 <= 19, 1x1 + 1x2 <=8.\n",
    "x1,x2 >=0"
   ]
  },
  {
   "cell_type": "markdown",
   "metadata": {},
   "source": [
    "# 1. Import Scipy dan linprog"
   ]
  },
  {
   "cell_type": "code",
   "execution_count": 2,
   "metadata": {},
   "outputs": [],
   "source": [
    "# import required libraries\n",
    "import numpy as np\n",
    "from scipy.optimize import linprog"
   ]
  },
  {
   "cell_type": "markdown",
   "metadata": {},
   "source": [
    "# 2. Susun array a berdasarkan koefisien x1 dan x2 pada pertidaksamaan constraints"
   ]
  },
  {
   "cell_type": "code",
   "execution_count": 3,
   "metadata": {},
   "outputs": [],
   "source": [
    "# set the inequality constraints matrix\n",
    "# note : the inequality constraints must be in the form of <=\n",
    "A = np.array([[1, 0], [2, 3], [1, 1], [-1,0], [0,-1]])"
   ]
  },
  {
   "cell_type": "markdown",
   "metadata": {},
   "source": [
    "# 3. Susun array b berdasarkan pertidaksamaan vektor constraints"
   ]
  },
  {
   "cell_type": "code",
   "execution_count": 4,
   "metadata": {},
   "outputs": [],
   "source": [
    "# set the inequality constraints vector\n",
    "b = np.array([16, 19, 8, 0, 0])"
   ]
  },
  {
   "cell_type": "markdown",
   "metadata": {},
   "source": [
    "# 4. Array c merupakan koefisien vektor. Ketika maximizing, ubah tanda koefisien (bila positif menjadi negatif)"
   ]
  },
  {
   "cell_type": "code",
   "execution_count": 5,
   "metadata": {},
   "outputs": [],
   "source": [
    "# Set the coefficients of the linear objectife function vector\n",
    "# note: when maximizing, change the signs of the c vector coefficients\n",
    "c = np.array([-5, -7])"
   ]
  },
  {
   "cell_type": "markdown",
   "metadata": {},
   "source": [
    "# 5 Menyelesaikan problem linear programming"
   ]
  },
  {
   "cell_type": "code",
   "execution_count": 6,
   "metadata": {},
   "outputs": [],
   "source": [
    "# solve linear programming problem\n",
    "res = linprog(c, A_ub=A, b_ub=b)"
   ]
  },
  {
   "cell_type": "code",
   "execution_count": 9,
   "metadata": {},
   "outputs": [
    {
     "name": "stdout",
     "output_type": "stream",
     "text": [
      "Optimal values: 46.0 \n",
      "x values: [5. 3.] \n",
      "Number of iterations performed: 5 \n",
      "Status: Optimization terminated successfully.\n"
     ]
    }
   ],
   "source": [
    "# Print results\n",
    "print('Optimal values:', round(res.fun*-1, ndigits=2),\n",
    "     '\\nx values:', res.x,\n",
    "     '\\nNumber of iterations performed:', res.nit,\n",
    "     '\\nStatus:', res.message)"
   ]
  },
  {
   "cell_type": "markdown",
   "metadata": {},
   "source": [
    "# Menggunakan Pulp (linier programming)"
   ]
  },
  {
   "cell_type": "code",
   "execution_count": 1,
   "metadata": {},
   "outputs": [
    {
     "name": "stdout",
     "output_type": "stream",
     "text": [
      "6.6666667\n",
      "0.0\n",
      "28000.00014\n"
     ]
    }
   ],
   "source": [
    "# Linear Programming\n",
    "### Menggunakan Pulp\n",
    "\n",
    "import pulp\n",
    "\n",
    "# 1. Menginstansiasi kelas menjadi model menggunakan LpMaximize\n",
    "\n",
    "# instantiate our problem class\n",
    "model = pulp.LpProblem(\"ProfitMaximisingProblem\", pulp.LpMaximize)\n",
    "\n",
    "# 2. Membuat fungsi dan constrain\n",
    "\n",
    "A = pulp.LpVariable('A', lowBound=0, cat='integer')\n",
    "B = pulp.LpVariable('B', lowBound=0, cat='integer')\n",
    "\n",
    "# Menyelesaikan problem linier programming\n",
    "\n",
    "# objective function\n",
    "model += 4200 * A + 2800 * B, \"Profit\"\n",
    "# onstraints\n",
    "model += 3 * A + 2 * B <= 20\n",
    "model += 4 * A + 3 * B <= 30\n",
    "model += 4 * A + 3 * B <= 44\n",
    "\n",
    "# solve our problem\n",
    "model.solve()\n",
    "pulp.LpStatus[model.status]\n",
    "\n",
    "print(A.varValue)\n",
    "\n",
    "print(B.varValue)\n",
    "\n",
    "print(pulp.value(model.objective))\n",
    "\n"
   ]
  },
  {
   "cell_type": "code",
   "execution_count": null,
   "metadata": {},
   "outputs": [],
   "source": []
  }
 ],
 "metadata": {
  "kernelspec": {
   "display_name": "Python 3",
   "language": "python",
   "name": "python3"
  },
  "language_info": {
   "codemirror_mode": {
    "name": "ipython",
    "version": 3
   },
   "file_extension": ".py",
   "mimetype": "text/x-python",
   "name": "python",
   "nbconvert_exporter": "python",
   "pygments_lexer": "ipython3",
   "version": "3.8.3"
  }
 },
 "nbformat": 4,
 "nbformat_minor": 4
}
