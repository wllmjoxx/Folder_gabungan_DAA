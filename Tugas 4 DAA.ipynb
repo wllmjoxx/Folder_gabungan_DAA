{
 "cells": [
  {
   "cell_type": "code",
   "execution_count": null,
   "metadata": {},
   "outputs": [],
   "source": [
    "#Undirected Graph\n",
    "#    p\n",
    "#   / \\\n",
    "#  /   \\\n",
    "# o----q\n",
    "#       \\\n",
    "#        \\\n",
    "#         v\n",
    "#        / \\\n",
    "#       /   \\\n",
    "#      z    m"
   ]
  },
  {
   "cell_type": "code",
   "execution_count": 2,
   "metadata": {},
   "outputs": [
    {
     "name": "stdout",
     "output_type": "stream",
     "text": [
      "{'p': ['o', 'q'], 'q': ['o', 'p'], 'o': ['p', 'q'], 'v': ['z', 'm'], 'z': ['v'], 'm': ['v']}\n"
     ]
    }
   ],
   "source": [
    "#Create the dictionary with graph elements\n",
    "graph = {\"p\" : [\"o\",\"q\"],\n",
    "         \"q\" : [\"o\",\"p\"],\n",
    "         \"o\" : [\"p\",\"q\"],\n",
    "         \"v\" : [\"z\",\"m\"],\n",
    "         \"z\" : [\"v\"],\n",
    "         \"m\" : [\"v\"]\n",
    "        }\n",
    "\n",
    "# Print the graph -->--->\n",
    "print(graph)"
   ]
  },
  {
   "cell_type": "code",
   "execution_count": 3,
   "metadata": {},
   "outputs": [
    {
     "name": "stdout",
     "output_type": "stream",
     "text": [
      "['p', 'q', 'o', 'v', 'z', 'm']\n"
     ]
    }
   ],
   "source": [
    "class graph:\n",
    "    def __init__(self,gdict=None):\n",
    "        if gdict is None:\n",
    "            gdict = []\n",
    "        self.gdict = gdict\n",
    "        \n",
    "# Get the keys of the dictionary\n",
    "    def getVertices(self):\n",
    "        return list(self.gdict.keys())\n",
    "\n",
    "# Get the dictionary with graph elements\n",
    "graph_elements = {\"p\" : [\"o\",\"q\"],\n",
    "                  \"q\" : [\"o\",\"p\"],\n",
    "                  \"o\" : [\"p\",\"q\"],\n",
    "                  \"v\" : [\"z\",\"m\"],\n",
    "                  \"z\" : [\"v\"],\n",
    "                  \"m\" : [\"v\"]\n",
    "                 }\n",
    "\n",
    "g = graph(graph_elements)\n",
    "\n",
    "print(g.getVertices())"
   ]
  },
  {
   "cell_type": "code",
   "execution_count": 4,
   "metadata": {},
   "outputs": [
    {
     "name": "stdout",
     "output_type": "stream",
     "text": [
      "[{'p', 'o'}, {'p', 'q'}, {'o', 'q'}, {'z', 'v'}, {'m', 'v'}]\n"
     ]
    }
   ],
   "source": [
    "class graph:\n",
    "    def __init__(self,gdict=None):\n",
    "        if gdict is None:\n",
    "            gdict = {}\n",
    "        self.gdict = gdict\n",
    "        \n",
    "    def edges(self):\n",
    "        return self.findedges()\n",
    "    \n",
    "#Find the distinct list of edges\n",
    "    def findedges(self):\n",
    "        edgename = []\n",
    "        for vrtx in self.gdict:\n",
    "            for nxtvrtx in self.gdict[vrtx]:\n",
    "                if {nxtvrtx, vrtx} not in edgename:\n",
    "                    edgename.append({vrtx, nxtvrtx})\n",
    "        return edgename\n",
    "    \n",
    "# Create the dictionary with graph elements\n",
    "graph_elements = {\"p\" : [\"o\",\"q\"],\n",
    "                  \"q\" : [\"o\",\"p\"],\n",
    "                  \"o\" : [\"p\",\"q\"],\n",
    "                  \"v\" : [\"z\",\"m\"],\n",
    "                  \"z\" : [\"v\"],\n",
    "                  \"m\" : [\"v\"]\n",
    "                 }\n",
    "g = graph(graph_elements)\n",
    "\n",
    "print(g.edges())"
   ]
  },
  {
   "cell_type": "code",
   "execution_count": 5,
   "metadata": {},
   "outputs": [
    {
     "name": "stdout",
     "output_type": "stream",
     "text": [
      "['p', 'q', 'o', 'v', 'z', 'm', 'f']\n"
     ]
    }
   ],
   "source": [
    "class graph:\n",
    "    \n",
    "    def __init__(self,gdict=None):\n",
    "        if gdict is None:\n",
    "            gdict = {}\n",
    "        self.gdict = gdict\n",
    "        \n",
    "    def getVertices(self):\n",
    "        return list(self.gdict.keys())\n",
    "    \n",
    "# Add the vertex as a key\n",
    "    def addVertex(self, vrtx):\n",
    "        if vrtx not in self.gdict:\n",
    "            self.gdict[vrtx] = []\n",
    "            \n",
    "# Create the dictionary with graph elements\n",
    "graph_elements = {\"p\" : [\"o\",\"q\"],\n",
    "                  \"q\" : [\"o\",\"p\"],\n",
    "                  \"o\" : [\"p\",\"q\"],\n",
    "                  \"v\" : [\"z\",\"m\"],\n",
    "                  \"z\" : [\"v\"],\n",
    "                  \"m\" : [\"v\"]\n",
    "                 }\n",
    "\n",
    "g = graph(graph_elements)\n",
    "\n",
    "g.addVertex(\"f\")\n",
    "\n",
    "print(g.getVertices())"
   ]
  },
  {
   "cell_type": "code",
   "execution_count": 6,
   "metadata": {},
   "outputs": [],
   "source": [
    "class graph:\n",
    "    \n",
    "    def __init__(self,gdict=None):\n",
    "        if gdict is None:\n",
    "            gdict = {}\n",
    "        self.gdict = gdict\n",
    "        \n",
    "    def edges(self):\n",
    "        return self.findedges()\n",
    "#Add the new edge\n",
    "\n",
    "    def AddEdge(self, edge):\n",
    "        edge = set(edge)\n",
    "        (vrtx1, vrtx2) = tuple(edge)\n",
    "        if vrtx1 in self.gdict:\n",
    "            self.gdict[vrtx1].append(vrtx2)\n",
    "        else:\n",
    "            self.gdict[vrtx1] = [vrtx2]\n",
    "            \n",
    "# List the edges names\n",
    "    def findedges(self):\n",
    "        edgename = []\n",
    "        for vrtx in self.gdict:\n",
    "            for nxtvrtx in self.gdict[vrtx]:\n",
    "                if {nxtvrtx, vrtx} not in edgename:\n",
    "                    edgename.append({vrtx, nxtvrtx})\n",
    "        return edgename"
   ]
  },
  {
   "cell_type": "code",
   "execution_count": 7,
   "metadata": {},
   "outputs": [
    {
     "name": "stdout",
     "output_type": "stream",
     "text": [
      "[{'p', 'o'}, {'p', 'q'}, {'o', 'q'}, {'z', 'v'}, {'m', 'v'}]\n"
     ]
    }
   ],
   "source": [
    "#Create the dictionary with graph elements\n",
    "graph_elements = {\"p\" : [\"o\",\"q\"],\n",
    "                  \"q\" : [\"o\",\"p\"],\n",
    "                  \"o\" : [\"p\",\"q\"],\n",
    "                  \"v\" : [\"z\",\"m\"],\n",
    "                  \"z\" : [\"v\"],\n",
    "                  \"m\" : [\"v\"]\n",
    "                 }\n",
    "\n",
    "g = graph(graph_elements)\n",
    "g.AddEdge({'v','m'})\n",
    "g.AddEdge({'q','o'})\n",
    "print(g.edges())"
   ]
  },
  {
   "cell_type": "code",
   "execution_count": null,
   "metadata": {},
   "outputs": [],
   "source": []
  }
 ],
 "metadata": {
  "kernelspec": {
   "display_name": "Python 3",
   "language": "python",
   "name": "python3"
  },
  "language_info": {
   "codemirror_mode": {
    "name": "ipython",
    "version": 3
   },
   "file_extension": ".py",
   "mimetype": "text/x-python",
   "name": "python",
   "nbconvert_exporter": "python",
   "pygments_lexer": "ipython3",
   "version": "3.8.3"
  }
 },
 "nbformat": 4,
 "nbformat_minor": 4
}
